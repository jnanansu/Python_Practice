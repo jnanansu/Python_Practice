{
 "cells": [
  {
   "cell_type": "code",
   "execution_count": 27,
   "metadata": {},
   "outputs": [],
   "source": [
    "def couple(ht2,name,n,dict1):\n",
    "    \n",
    "    ht2.sort()\n",
    "    ht_list=[]\n",
    "    nm_list=[]\n",
    "    final_list=[]\n",
    "    name=[]\n",
    "    \n",
    "    for i in ht2:\n",
    "        for j in dict1.keys():\n",
    "            if dict1[j]==i:\n",
    "                if j not in name:\n",
    "                    if len(ht_list)==0:\n",
    "                        ht_list.append(i)\n",
    "                        nm_list.append(j)\n",
    "                        name.append(j)\n",
    "                        print(ht_list)\n",
    "                        print(nm_list)\n",
    "                        break\n",
    "                    \n",
    "                    elif len(ht_list)==1:\n",
    "                        if (i-ht_list[0])<=2:\n",
    "                            ht_list.append(i)\n",
    "                            nm_list.append(j)\n",
    "                            name.append(j)\n",
    "                            print(ht_list)\n",
    "                            print(nm_list)\n",
    "\n",
    "                        else:\n",
    "                            ht_list.clear()\n",
    "                            ht_list.append(i)\n",
    "                            nm_list.clear()\n",
    "                            nm_list.append(j)\n",
    "                            name.append(j)\n",
    "                            print(ht_list)\n",
    "                            print(nm_list)\n",
    "                        break\n",
    "                else:\n",
    "                    continue\n",
    "                        \n",
    "        if len(nm_list)==2:\n",
    "            final_list.append(nm_list)\n",
    "            ht_list.clear()\n",
    "            nm_list.clear()\n",
    "        #ht2.remove(i)\n",
    "        \n",
    "    return final_list\n",
    "    "
   ]
  },
  {
   "cell_type": "code",
   "execution_count": 28,
   "metadata": {},
   "outputs": [
    {
     "name": "stdout",
     "output_type": "stream",
     "text": [
      "5\n",
      "a 1\n",
      "b 2\n",
      "c 3\n",
      "d 4\n",
      "e 3\n"
     ]
    }
   ],
   "source": [
    "n=int(input())\n",
    "ht=[]\n",
    "name=[]\n",
    "dict1={}\n",
    "for i in range(n):\n",
    "    list1=list(map(str,input().split()))\n",
    "    name.append(list1[0])\n",
    "    ht.append(int(list1[1]))\n",
    "    dict1[list1[0]]=int(list1[1])\n",
    "final= couple(ht,name,n,dict1)\n",
    "for k1,k2 in final:\n",
    "    print(k1+' '+k2)\n",
    "                    "
   ]
  },
  {
   "cell_type": "code",
   "execution_count": null,
   "metadata": {},
   "outputs": [],
   "source": [
    "\n"
   ]
  },
  {
   "cell_type": "code",
   "execution_count": 26,
   "metadata": {},
   "outputs": [
    {
     "data": {
      "text/plain": [
       "[['liz'], ['liz']]"
      ]
     },
     "execution_count": 26,
     "metadata": {},
     "output_type": "execute_result"
    }
   ],
   "source": [
    "final_list"
   ]
  },
  {
   "cell_type": "code",
   "execution_count": 8,
   "metadata": {},
   "outputs": [
    {
     "data": {
      "text/plain": [
       "['a', 'g', 'b', 'c', 'd', 'e', 'f']"
      ]
     },
     "execution_count": 8,
     "metadata": {},
     "output_type": "execute_result"
    }
   ],
   "source": [
    "name"
   ]
  },
  {
   "cell_type": "code",
   "execution_count": 31,
   "metadata": {},
   "outputs": [
    {
     "data": {
      "text/plain": [
       "7"
      ]
     },
     "execution_count": 31,
     "metadata": {},
     "output_type": "execute_result"
    }
   ],
   "source": [
    "\n",
    "n"
   ]
  },
  {
   "cell_type": "code",
   "execution_count": 32,
   "metadata": {},
   "outputs": [],
   "source": [
    "ht2=ht"
   ]
  },
  {
   "cell_type": "code",
   "execution_count": 36,
   "metadata": {},
   "outputs": [
    {
     "data": {
      "text/plain": [
       "[52, 53, 54, 60, 61, 61, 70]"
      ]
     },
     "execution_count": 36,
     "metadata": {},
     "output_type": "execute_result"
    }
   ],
   "source": [
    "ht2"
   ]
  },
  {
   "cell_type": "code",
   "execution_count": 37,
   "metadata": {},
   "outputs": [],
   "source": [
    "ht2.sort()\n",
    "ht_list=[]\n",
    "nm_list=[]\n",
    "final_list=[]\n",
    "    \n",
    "for i in ht2:\n",
    "    for j in dict1.keys():\n",
    "        if dict1[j]==i:\n",
    "            if len(ht_list)==0:\n",
    "                ht_list.append(i)\n",
    "                nm_list.append(j)\n",
    "                print(ht_list)\n",
    "                print(nm_list)"
   ]
  },
  {
   "cell_type": "code",
   "execution_count": 38,
   "metadata": {},
   "outputs": [
    {
     "data": {
      "text/plain": [
       "[]"
      ]
     },
     "execution_count": 38,
     "metadata": {},
     "output_type": "execute_result"
    }
   ],
   "source": [
    "ht_list"
   ]
  },
  {
   "cell_type": "code",
   "execution_count": 39,
   "metadata": {},
   "outputs": [
    {
     "data": {
      "text/plain": [
       "[52, 53, 54, 60, 61, 61, 70]"
      ]
     },
     "execution_count": 39,
     "metadata": {},
     "output_type": "execute_result"
    }
   ],
   "source": [
    "ht2"
   ]
  },
  {
   "cell_type": "code",
   "execution_count": 51,
   "metadata": {},
   "outputs": [],
   "source": [
    "for i in ht2:\n",
    "    for j in name:\n",
    "        if dict1[j]==i:\n",
    "         "
   ]
  },
  {
   "cell_type": "code",
   "execution_count": 42,
   "metadata": {},
   "outputs": [
    {
     "name": "stdout",
     "output_type": "stream",
     "text": [
      "1\n"
     ]
    }
   ],
   "source": [
    "print(1)"
   ]
  },
  {
   "cell_type": "code",
   "execution_count": null,
   "metadata": {},
   "outputs": [],
   "source": []
  }
 ],
 "metadata": {
  "kernelspec": {
   "display_name": "Python 3",
   "language": "python",
   "name": "python3"
  },
  "language_info": {
   "codemirror_mode": {
    "name": "ipython",
    "version": 3
   },
   "file_extension": ".py",
   "mimetype": "text/x-python",
   "name": "python",
   "nbconvert_exporter": "python",
   "pygments_lexer": "ipython3",
   "version": "3.7.4"
  }
 },
 "nbformat": 4,
 "nbformat_minor": 2
}
